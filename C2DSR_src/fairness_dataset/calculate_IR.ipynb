{
 "cells": [
  {
   "cell_type": "code",
   "execution_count": 2,
   "metadata": {},
   "outputs": [],
   "source": [
    "import pandas as pd\n",
    "import numpy as np\n",
    "import warnings\n",
    "import pandas as pd\n",
    "\n",
    "# Suppress FutureWarning messages\n",
    "warnings.simplefilter(action='ignore', category=FutureWarning)"
   ]
  },
  {
   "cell_type": "code",
   "execution_count": 2,
   "metadata": {},
   "outputs": [
    {
     "name": "stdout",
     "output_type": "stream",
     "text": [
      "folder:  drama_sci-fi\n"
     ]
    }
   ],
   "source": [
    "import torch\n",
    "import glob\n",
    "import matplotlib.pyplot as plt\n",
    "import pandas as pd\n",
    "import numpy as np\n",
    "import json\n",
    "\n",
    "mode = \"train\"\n",
    "main_folder = \"reverse_1and45age_dataset\"\n",
    "folder_list = glob.glob(f\"./{main_folder}/*\")\n",
    "folder_list = [x.split('/')[-1] for x in folder_list if x.split('/')[-1] != 'item_statistic.ipynb']\n",
    "# fig, axes = plt.subplots(5,figsize=(10,15),constrained_layout=True)\n",
    "# folder_list = [\"action_comedy\",\"action_drama\",\"comedy_drama\",\"comedy_thriller\"] # 商品基數大的資料集\n",
    "# folder_list = [\"action_romance\",\"adventure_romance\",\"sci-fi_romance\",\"thriller_romance\"] # 商品基數較小的資料集\n",
    "for i, folder in enumerate(folder_list):\n",
    "    print(\"folder: \",folder)\n",
    "    male_train_data = []\n",
    "    female_train_data = []\n",
    "    with open(f\"{main_folder}/{folder}/train.txt\") as f:\n",
    "        data = f.readlines()\n",
    "        source_item_num = int(data[0])\n",
    "        for line in data[2:]:\n",
    "            uid,g = list(map(int,line.strip().split()[:2]))\n",
    "            i_t =[list(map(int,tmp.split(\"|\"))) for tmp in line.split()[2:]]\n",
    "            item = [tmp[0] for tmp in i_t]\n",
    "            time = [tmp[1] for tmp in i_t]\n",
    "            if g==1:\n",
    "                male_train_data.extend(item)\n",
    "            else:\n",
    "                female_train_data.extend(item)\n",
    "    male_train_data = torch.tensor(male_train_data)\n",
    "    num1, count1 = male_train_data.unique(return_counts=True)\n",
    "    female_train_data = torch.tensor(female_train_data)\n",
    "    num2, count2 = female_train_data.unique(return_counts=True)\n",
    "    male_item = pd.DataFrame({\"iid\":num1,\"count_male\":count1})\n",
    "    male_item['ratio'] =  male_item['count_male']/male_item['count_male'].sum()\n",
    "    female_item = pd.DataFrame({\"iid\":num2,\"count_female\":count2})\n",
    "    female_item['ratio'] =  female_item['count_female']/female_item['count_female'].sum()\n",
    "    male_dic = {int(tmp[0]):round(tmp[1],5) for tmp in male_item[['iid','ratio']].values.tolist()}\n",
    "    file_path = f\"{main_folder}/{folder}/male_IR.json\"\n",
    "    with open(file_path, 'w') as json_file:\n",
    "        json.dump(male_dic, json_file)\n",
    "    female_dic = {int(tmp[0]):round(tmp[1],5) for tmp in female_item[['iid','ratio']].values.tolist()}\n",
    "    file_path = f\"{main_folder}/{folder}/female_IR.json\"\n",
    "    with open(file_path, 'w') as json_file:\n",
    "        json.dump(female_dic, json_file)"
   ]
  },
  {
   "cell_type": "code",
   "execution_count": null,
   "metadata": {},
   "outputs": [],
   "source": []
  }
 ],
 "metadata": {
  "kernelspec": {
   "display_name": "predictor",
   "language": "python",
   "name": "python3"
  },
  "language_info": {
   "codemirror_mode": {
    "name": "ipython",
    "version": 3
   },
   "file_extension": ".py",
   "mimetype": "text/x-python",
   "name": "python",
   "nbconvert_exporter": "python",
   "pygments_lexer": "ipython3",
   "version": "3.9.18"
  }
 },
 "nbformat": 4,
 "nbformat_minor": 2
}
