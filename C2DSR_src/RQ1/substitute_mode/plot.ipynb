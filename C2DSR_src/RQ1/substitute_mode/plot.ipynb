{
 "cells": [
  {
   "cell_type": "code",
   "execution_count": 3,
   "metadata": {},
   "outputs": [],
   "source": [
    "import pandas as pd \n",
    "import numpy as np\n",
    "import matplotlib.pyplot as plt\n",
    "import seaborn as sns\n",
    "import glob "
   ]
  },
  {
   "cell_type": "markdown",
   "metadata": {},
   "source": [
    "# Table 1"
   ]
  },
  {
   "cell_type": "code",
   "execution_count": 10,
   "metadata": {},
   "outputs": [],
   "source": [
    "# get mean result\n",
    "from pathlib import Path \n",
    "folder = \"substitution_mode_res_seed5_9_realGender\"\n",
    "file_list = glob.glob(f\"{folder}/*\")\n",
    "metric = \"NDCG_10\"\n",
    "for file in file_list:\n",
    "    df = pd.read_csv(file,index_col=0)\n",
    "    df_new = df[[\"test_Y_MRR_male\",\"test_Y_HR_5_male\",\"test_Y_HR_10_male\",\"test_Y_NDCG_5_male\",\"test_Y_NDCG_10_male\"]].subtract(df[[\"test_Y_MRR_female\",\"test_Y_HR_5_female\",\"test_Y_HR_10_female\",\"test_Y_NDCG_5_female\",\"test_Y_NDCG_10_female\"]].values)\n",
    "    df[[\"test_Y_MRR_UGF\",\"test_Y_HR_5\",\"test_Y_HR_10\",\"test_Y_NDCG_5_UGF\",\"test_Y_NDCG_10_UGF\"]] = df_new\n",
    "    \n",
    "    res = df.groupby(['substitute_mode'])[[f'test_Y_{metric}',f'test_Y_{metric}_male',f'test_Y_{metric}_female',f\"test_Y_{metric}_UGF\"]].mean().reset_index()\n",
    "    baseline = df[df['is_baseline']][['substitute_mode',f'test_Y_{metric}',f'test_Y_{metric}_male',f'test_Y_{metric}_female',f\"test_Y_{metric}_UGF\"]]\n",
    "    baseline['substitute_mode'] = \"baseline\"\n",
    "    res = pd.concat([res,baseline])\n",
    "    res.to_csv(f\"table1/{file.split('/')[1][:-4]}/avg_result_seed5_9.csv\")\n",
    "    # print(file)\n",
    "    # print(res)"
   ]
  },
  {
   "cell_type": "code",
   "execution_count": 1,
   "metadata": {},
   "outputs": [
    {
     "ename": "NameError",
     "evalue": "name 'glob' is not defined",
     "output_type": "error",
     "traceback": [
      "\u001b[0;31m---------------------------------------------------------------------------\u001b[0m",
      "\u001b[0;31mNameError\u001b[0m                                 Traceback (most recent call last)",
      "Cell \u001b[0;32mIn[1], line 3\u001b[0m\n\u001b[1;32m      1\u001b[0m \u001b[38;5;28;01mfrom\u001b[39;00m \u001b[38;5;21;01mpathlib\u001b[39;00m \u001b[38;5;28;01mimport\u001b[39;00m Path \n\u001b[1;32m      2\u001b[0m folder \u001b[38;5;241m=\u001b[39m \u001b[38;5;124m\"\u001b[39m\u001b[38;5;124msubstitution_mode_res_seed5_9_realGender\u001b[39m\u001b[38;5;124m\"\u001b[39m\n\u001b[0;32m----> 3\u001b[0m file_list \u001b[38;5;241m=\u001b[39m \u001b[43mglob\u001b[49m\u001b[38;5;241m.\u001b[39mglob(\u001b[38;5;124mf\u001b[39m\u001b[38;5;124m\"\u001b[39m\u001b[38;5;132;01m{\u001b[39;00mfolder\u001b[38;5;132;01m}\u001b[39;00m\u001b[38;5;124m/*\u001b[39m\u001b[38;5;124m\"\u001b[39m)\n\u001b[1;32m      4\u001b[0m metric \u001b[38;5;241m=\u001b[39m \u001b[38;5;124m\"\u001b[39m\u001b[38;5;124mNDCG_10\u001b[39m\u001b[38;5;124m\"\u001b[39m\n\u001b[1;32m      5\u001b[0m \u001b[38;5;66;03m# get mean result\u001b[39;00m\n",
      "\u001b[0;31mNameError\u001b[0m: name 'glob' is not defined"
     ]
    }
   ],
   "source": [
    "from pathlib import Path \n",
    "folder = \"substitution_mode_res_seed5_9_realGender\"\n",
    "file_list = glob.glob(f\"{folder}/*\")\n",
    "metric = \"NDCG_10\"\n",
    "# get mean result\n",
    "for file in file_list:\n",
    "    df = pd.read_csv(file,index_col=0)\n",
    "    df_new = df[[\"test_Y_MRR_male\",\"test_Y_HR_5_male\",\"test_Y_HR_10_male\",\"test_Y_NDCG_5_male\",\"test_Y_NDCG_10_male\"]].subtract(df[[\"test_Y_MRR_female\",\"test_Y_HR_5_female\",\"test_Y_HR_10_female\",\"test_Y_NDCG_5_female\",\"test_Y_NDCG_10_female\"]].values)\n",
    "    df[[\"test_Y_MRR_UGF\",\"test_Y_HR_5\",\"test_Y_HR_10\",\"test_Y_NDCG_5_UGF\",\"test_Y_NDCG_10_UGF\"]] = df_new\n",
    "    \n",
    "    res = df.groupby(['substitute_mode'])[[f'test_Y_{metric}',f'test_Y_{metric}_male',f'test_Y_{metric}_female',f\"test_Y_{metric}_UGF\"]].mean()\n",
    "    baseline = df[df['is_baseline']][['substitute_mode',f'test_Y_{metric}',f'test_Y_{metric}_male',f'test_Y_{metric}_female',f\"test_Y_{metric}_UGF\"]]\n",
    "    baseline['substitute_mode'] = \"baseline\"\n",
    "    res = pd.concat([res,baseline])\n",
    "    # res.to_csv(f\"table1/{file.split('/')[1]}\")\n",
    "    print(file)\n",
    "    print(res)\n",
    "# get all seed result\n",
    "for file in file_list:\n",
    "    df = pd.read_csv(file,index_col=0)\n",
    "    df_new = df[[\"test_Y_MRR_male\",\"test_Y_HR_5_male\",\"test_Y_HR_10_male\",\"test_Y_NDCG_5_male\",\"test_Y_NDCG_10_male\"]].subtract(df[[\"test_Y_MRR_female\",\"test_Y_HR_5_female\",\"test_Y_HR_10_female\",\"test_Y_NDCG_5_female\",\"test_Y_NDCG_10_female\"]].values)\n",
    "    df[[\"test_Y_MRR_UGF\",\"test_Y_HR_5\",\"test_Y_HR_10\",\"test_Y_NDCG_5_UGF\",\"test_Y_NDCG_10_UGF\"]] = df_new\n",
    "    for seed in range(5,10):\n",
    "        res = df[(df[\"seed\"]==seed) & (~df['is_baseline'])][['substitute_mode',f'test_Y_{metric}',f'test_Y_{metric}_male',f'test_Y_{metric}_female',f\"test_Y_{metric}_UGF\"]]\n",
    "        baseline = df[df['is_baseline']][['substitute_mode',f'test_Y_{metric}',f'test_Y_{metric}_male',f'test_Y_{metric}_female',f\"test_Y_{metric}_UGF\"]]\n",
    "        baseline['substitute_mode'] = \"baseline\"\n",
    "        res = pd.concat([res,baseline])\n",
    "        Path(f\"table1/{file.split('/')[1][:-4]}\").mkdir(exist_ok=True,parents=True)\n",
    "        res.to_csv(f\"table1/{file.split('/')[1][:-4]}/{seed}.csv\")"
   ]
  },
  {
   "cell_type": "code",
   "execution_count": null,
   "metadata": {},
   "outputs": [],
   "source": []
  }
 ],
 "metadata": {
  "kernelspec": {
   "display_name": "predictor",
   "language": "python",
   "name": "python3"
  },
  "language_info": {
   "codemirror_mode": {
    "name": "ipython",
    "version": 3
   },
   "file_extension": ".py",
   "mimetype": "text/x-python",
   "name": "python",
   "nbconvert_exporter": "python",
   "pygments_lexer": "ipython3",
   "version": "3.9.18"
  }
 },
 "nbformat": 4,
 "nbformat_minor": 2
}
